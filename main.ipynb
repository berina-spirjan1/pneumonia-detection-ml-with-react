{
 "cells": [
  {
   "cell_type": "code",
   "outputs": [],
   "source": [
    "import glob\n",
    "import random\n",
    "import matplotlib.pyplot as plt\n",
    "\n",
    "\n",
    "def get_random_image(dir):\n",
    "    folder = f\"./data/chest_xray/{dir}/*.jpeg\"  \n",
    "    image_paths = glob.glob(folder)\n",
    "    max_length = len(image_paths)\n",
    "    random_number = random.randint(0, max_length)\n",
    "    for index, item in enumerate(image_paths, start=1):\n",
    "        if index == random_number:\n",
    "            print(index,item)\n",
    "            image = plt.imread(item)\n",
    "            ready_image=plt.imshow(image)\n",
    "            plt.show()\n",
    "            return ready_image\n"
   ],
   "metadata": {
    "collapsed": false,
    "ExecuteTime": {
     "end_time": "2024-03-16T22:47:00.387633Z",
     "start_time": "2024-03-16T22:47:00.384703Z"
    }
   },
   "id": "c39a28d1bcb7c42b",
   "execution_count": 126
  },
  {
   "cell_type": "code",
   "outputs": [],
   "source": [
    "get_random_image(\"train\")"
   ],
   "metadata": {
    "collapsed": false,
    "ExecuteTime": {
     "end_time": "2024-03-16T22:47:00.402787Z",
     "start_time": "2024-03-16T22:47:00.400648Z"
    }
   },
   "id": "574e9eb21de77604",
   "execution_count": 127
  },
  {
   "cell_type": "code",
   "outputs": [],
   "source": [
    "from PIL import Image\n",
    "\n",
    "def format_image_filenames(dir):\n",
    "    folder = f\"./data/chest_xray/{dir}/*/*.jpeg\"\n",
    "    \n",
    "    counter_pneumonia = 0\n",
    "    counter_normal = 0\n",
    "    \n",
    "    image_paths = glob.glob(folder)\n",
    "    \n",
    "    for img in image_paths:\n",
    "        full_size_image = Image.open(img)\n",
    "        image = full_size_image.resize((224,224))\n",
    "        if \"person\" in img:\n",
    "            plt.imsave(fname = f\"./data/chest_xray/{dir}/train_pneumonia\"+str(counter_pneumonia)+'.jpeg', arr=image,format = \"jpeg\", cmap = 'gray')\n",
    "            counter_pneumonia+=1\n",
    "        else:\n",
    "            plt.imsave(fname=f\"./data/chest_xray/{dir}/train_normal\"+str(counter_normal)+'.jpeg', arr=image,format=\"jpeg\", cmap='gray')\n",
    "            counter_normal+=1"
   ],
   "metadata": {
    "collapsed": false,
    "ExecuteTime": {
     "end_time": "2024-03-16T22:47:00.407124Z",
     "start_time": "2024-03-16T22:47:00.404269Z"
    }
   },
   "id": "5fd7e7625dc76023",
   "execution_count": 128
  },
  {
   "cell_type": "code",
   "outputs": [],
   "source": [
    "image_filenames = ['train','test','val']\n",
    "\n",
    "for filename in image_filenames:    \n",
    "    format_image_filenames(filename)"
   ],
   "metadata": {
    "collapsed": false,
    "ExecuteTime": {
     "end_time": "2024-03-16T22:47:00.410313Z",
     "start_time": "2024-03-16T22:47:00.408016Z"
    }
   },
   "id": "fdc289213ca408c6",
   "execution_count": 129
  },
  {
   "cell_type": "code",
   "outputs": [
    {
     "name": "stdout",
     "output_type": "stream",
     "text": [
      "  dataset type x-ray result                                   filename\n",
      "0          val    pneumonia  ./data/chest_xray/val/val_pneumonia5.jpeg\n",
      "1          val       normal     ./data/chest_xray/val/val_normal7.jpeg\n",
      "2          val       normal     ./data/chest_xray/val/val_normal6.jpeg\n",
      "3          val    pneumonia  ./data/chest_xray/val/val_pneumonia4.jpeg\n",
      "4          val    pneumonia  ./data/chest_xray/val/val_pneumonia3.jpeg\n"
     ]
    }
   ],
   "source": [
    "import pandas as pd\n",
    "\n",
    "folder = \"./data/chest_xray/*/*.jpeg\"\n",
    "\n",
    "category = []\n",
    "condition_of_lung = []\n",
    "filenames = []\n",
    "\n",
    "all_files = glob.glob(folder)\n",
    "\n",
    "for filename in all_files:\n",
    "    if \"train\" in filename:\n",
    "        category.append(\"train\")\n",
    "    elif \"test\" in filename:\n",
    "        category.append(\"test\")\n",
    "    else:\n",
    "        category.append(\"val\")\n",
    "\n",
    "    filenames.append(filename)\n",
    "\n",
    "    if \"pneumonia\" in filename:\n",
    "        condition_of_lung.append(\"pneumonia\")\n",
    "    elif \"normal\" in filename:\n",
    "        condition_of_lung.append(\"normal\")\n",
    "\n",
    "all_data_df = pd.DataFrame({\"dataset type\":category, \"x-ray result\":condition_of_lung,\"filename\":filenames})\n",
    "print(all_data_df.head())"
   ],
   "metadata": {
    "collapsed": false,
    "ExecuteTime": {
     "end_time": "2024-03-16T22:47:00.429474Z",
     "start_time": "2024-03-16T22:47:00.422579Z"
    }
   },
   "id": "1fb106c24f6d4cc2",
   "execution_count": 130
  },
  {
   "cell_type": "code",
   "outputs": [
    {
     "name": "stdout",
     "output_type": "stream",
     "text": [
      "val\n",
      "pneumonia\n",
      "./data/chest_xray/val/val_pneumonia5.jpeg\n"
     ]
    }
   ],
   "source": [
    "print(category[0])\n",
    "print(condition_of_lung[0])\n",
    "print(filenames[0])"
   ],
   "metadata": {
    "collapsed": false,
    "ExecuteTime": {
     "end_time": "2024-03-16T22:47:00.436585Z",
     "start_time": "2024-03-16T22:47:00.433125Z"
    }
   },
   "id": "9d3ace65ae553fb0",
   "execution_count": 131
  },
  {
   "cell_type": "code",
   "outputs": [
    {
     "ename": "IndexError",
     "evalue": "index 1 is out of bounds for axis 1 with size 1",
     "output_type": "error",
     "traceback": [
      "\u001B[0;31m---------------------------------------------------------------------------\u001B[0m",
      "\u001B[0;31mIndexError\u001B[0m                                Traceback (most recent call last)",
      "Cell \u001B[0;32mIn[132], line 6\u001B[0m\n\u001B[1;32m      3\u001B[0m bar_graph \u001B[38;5;241m=\u001B[39m sns\u001B[38;5;241m.\u001B[39mcatplot(x\u001B[38;5;241m=\u001B[39m\u001B[38;5;124m\"\u001B[39m\u001B[38;5;124mx-ray result\u001B[39m\u001B[38;5;124m\"\u001B[39m,col\u001B[38;5;241m=\u001B[39m\u001B[38;5;124m\"\u001B[39m\u001B[38;5;124mdataset type\u001B[39m\u001B[38;5;124m\"\u001B[39m,kind\u001B[38;5;241m=\u001B[39m\u001B[38;5;124m\"\u001B[39m\u001B[38;5;124mcount\u001B[39m\u001B[38;5;124m\"\u001B[39m,palette\u001B[38;5;241m=\u001B[39m\u001B[38;5;124m\"\u001B[39m\u001B[38;5;124mch:55\u001B[39m\u001B[38;5;124m\"\u001B[39m,data\u001B[38;5;241m=\u001B[39mall_data_df,legend\u001B[38;5;241m=\u001B[39m\u001B[38;5;28;01mTrue\u001B[39;00m)\n\u001B[1;32m      5\u001B[0m \u001B[38;5;28;01mfor\u001B[39;00m i \u001B[38;5;129;01min\u001B[39;00m \u001B[38;5;28mrange\u001B[39m(\u001B[38;5;241m0\u001B[39m,\u001B[38;5;241m3\u001B[39m):\n\u001B[0;32m----> 6\u001B[0m     ax \u001B[38;5;241m=\u001B[39m \u001B[43mbar_graph\u001B[49m\u001B[38;5;241;43m.\u001B[39;49m\u001B[43mfacet_axis\u001B[49m\u001B[43m(\u001B[49m\u001B[38;5;241;43m0\u001B[39;49m\u001B[43m,\u001B[49m\u001B[43mi\u001B[49m\u001B[43m)\u001B[49m\n\u001B[1;32m      7\u001B[0m     \u001B[38;5;28;01mfor\u001B[39;00m p \u001B[38;5;129;01min\u001B[39;00m ax\u001B[38;5;241m.\u001B[39mpatches:\n\u001B[1;32m      8\u001B[0m         ax\u001B[38;5;241m.\u001B[39mtext(p\u001B[38;5;241m.\u001B[39mget_x()\u001B[38;5;241m+\u001B[39m\u001B[38;5;241m0.3\u001B[39m,p\u001B[38;5;241m.\u001B[39mget_height()\u001B[38;5;241m*\u001B[39m\u001B[38;5;241m1.05\u001B[39m,\u001B[38;5;124m'\u001B[39m\u001B[38;5;132;01m{0:0f}\u001B[39;00m\u001B[38;5;124m'\u001B[39m\u001B[38;5;241m.\u001B[39mformat(p\u001B[38;5;241m.\u001B[39mget_height()),color\u001B[38;5;241m=\u001B[39m\u001B[38;5;124m\"\u001B[39m\u001B[38;5;124mblack\u001B[39m\u001B[38;5;124m\"\u001B[39m,rotation\u001B[38;5;241m=\u001B[39m\u001B[38;5;124m\"\u001B[39m\u001B[38;5;124mhorizontal\u001B[39m\u001B[38;5;124m\"\u001B[39m,size\u001B[38;5;241m=\u001B[39m\u001B[38;5;124m\"\u001B[39m\u001B[38;5;124mlarge\u001B[39m\u001B[38;5;124m\"\u001B[39m)\n",
      "File \u001B[0;32m~/anaconda3/envs/pneumonia-detection-ml-with-react/lib/python3.10/site-packages/seaborn/axisgrid.py:865\u001B[0m, in \u001B[0;36mFacetGrid.facet_axis\u001B[0;34m(self, row_i, col_j, modify_state)\u001B[0m\n\u001B[1;32m    863\u001B[0m     ax \u001B[38;5;241m=\u001B[39m \u001B[38;5;28mself\u001B[39m\u001B[38;5;241m.\u001B[39maxes\u001B[38;5;241m.\u001B[39mflat[col_j]\n\u001B[1;32m    864\u001B[0m \u001B[38;5;28;01melse\u001B[39;00m:\n\u001B[0;32m--> 865\u001B[0m     ax \u001B[38;5;241m=\u001B[39m \u001B[38;5;28;43mself\u001B[39;49m\u001B[38;5;241;43m.\u001B[39;49m\u001B[43maxes\u001B[49m\u001B[43m[\u001B[49m\u001B[43mrow_i\u001B[49m\u001B[43m,\u001B[49m\u001B[43m \u001B[49m\u001B[43mcol_j\u001B[49m\u001B[43m]\u001B[49m\n\u001B[1;32m    867\u001B[0m \u001B[38;5;66;03m# Get a reference to the axes object we want, and make it active\u001B[39;00m\n\u001B[1;32m    868\u001B[0m \u001B[38;5;28;01mif\u001B[39;00m modify_state:\n",
      "\u001B[0;31mIndexError\u001B[0m: index 1 is out of bounds for axis 1 with size 1"
     ]
    },
    {
     "data": {
      "text/plain": "<Figure size 500x500 with 1 Axes>",
      "image/png": "[encoded data removed]"
     },
     "metadata": {},
     "output_type": "display_data"
    }
   ],
   "source": [
    "import seaborn as sns\n",
    "\n",
    "bar_graph = sns.catplot(x=\"x-ray result\",col=\"dataset type\",kind=\"count\",palette=\"ch:55\",data=all_data_df,legend=True)\n",
    "\n",
    "for i in range(0,3):\n",
    "    ax = bar_graph.facet_axis(0,i)\n",
    "    for p in ax.patches:\n",
    "        ax.text(p.get_x()+0.3,p.get_height()*1.05,'{0:0f}'.format(p.get_height()),color=\"black\",rotation=\"horizontal\",size=\"large\")"
   ],
   "metadata": {
    "collapsed": false,
    "ExecuteTime": {
     "end_time": "2024-03-16T22:47:00.696516Z",
     "start_time": "2024-03-16T22:47:00.438129Z"
    }
   },
   "id": "ca1240189933c0be",
   "execution_count": 132
  },
  {
   "cell_type": "code",
   "outputs": [],
   "source": [
    "import os\n",
    "\n",
    "def get_data_frame_for_ls_files(dir):\n",
    "    img_folder = f'./data/chest_xray/{dir}/*.jpeg'\n",
    "    df_lst = pd.DataFrame(columns=['labels','s3_path'])\n",
    "    img_paths = glob.glob(img_folder)\n",
    "    counter = 0\n",
    "    class_arg = ''\n",
    "    for image_path in img_paths:\n",
    "        if \"pneumonia\" in image_path:\n",
    "            class_arg = 1\n",
    "        else:\n",
    "            class_arg = 0\n",
    "        df_lst.loc[counter] = [class_arg, os.path.basename(image_path)]  \n",
    "        counter+=1\n",
    "    return df_lst\n",
    "      "
   ],
   "metadata": {
    "collapsed": false,
    "ExecuteTime": {
     "end_time": "2024-03-16T23:06:32.893121Z",
     "start_time": "2024-03-16T23:06:32.888279Z"
    }
   },
   "id": "b6b4ed9c1916729b",
   "execution_count": 138
  },
  {
   "cell_type": "code",
   "outputs": [],
   "source": [
    "train_df_lst = get_data_frame_for_ls_files('train')"
   ],
   "metadata": {
    "collapsed": false,
    "ExecuteTime": {
     "end_time": "2024-03-16T23:06:33.334434Z",
     "start_time": "2024-03-16T23:06:33.331553Z"
    }
   },
   "id": "4e4e70d653bcb2f",
   "execution_count": 139
  },
  {
   "cell_type": "code",
   "outputs": [],
   "source": [
    "test_df_lst = get_data_frame_for_ls_files(\"test\")"
   ],
   "metadata": {
    "collapsed": false,
    "ExecuteTime": {
     "end_time": "2024-03-16T23:06:33.624056Z",
     "start_time": "2024-03-16T23:06:33.621174Z"
    }
   },
   "id": "36b4122162553ae",
   "execution_count": 140
  },
  {
   "cell_type": "code",
   "outputs": [],
   "source": [
    "def save_to_list(data_frame, prefix):\n",
    "    return data_frame[[\"labels\",\"s3_path\"]].to_csv(f\"{prefix}.lst\",sep=\"\\t\",index=True,header=False)"
   ],
   "metadata": {
    "collapsed": false,
    "ExecuteTime": {
     "end_time": "2024-03-16T23:06:33.813457Z",
     "start_time": "2024-03-16T23:06:33.811101Z"
    }
   },
   "id": "eee23602f5fb0b26",
   "execution_count": 141
  },
  {
   "cell_type": "code",
   "outputs": [],
   "source": [
    "save_to_list(train_df_lst.copy(), \"train\")"
   ],
   "metadata": {
    "collapsed": false,
    "ExecuteTime": {
     "end_time": "2024-03-16T23:06:34.000190Z",
     "start_time": "2024-03-16T23:06:33.996245Z"
    }
   },
   "id": "5e364a8e04441dab",
   "execution_count": 142
  },
  {
   "cell_type": "code",
   "outputs": [],
   "source": [
    "save_to_list(test_df_lst.copy(),\"test\")"
   ],
   "metadata": {
    "collapsed": false,
    "ExecuteTime": {
     "end_time": "2024-03-16T23:06:34.154473Z",
     "start_time": "2024-03-16T23:06:34.151382Z"
    }
   },
   "id": "a0d4a86df4c971bd",
   "execution_count": 143
  },
  {
   "cell_type": "code",
   "outputs": [],
   "source": [
    "bucket = 'medical-ai-pneumonia'\n",
    "region = 'eu-central-1'\n",
    "roleArn = 'arn:aws:s3:::medical-ai-pneumonia'"
   ],
   "metadata": {
    "collapsed": false,
    "ExecuteTime": {
     "end_time": "2024-03-16T23:06:34.318549Z",
     "start_time": "2024-03-16T23:06:34.316327Z"
    }
   },
   "id": "d16354d19dd7d9bd",
   "execution_count": 144
  },
  {
   "cell_type": "code",
   "outputs": [],
   "source": [
    "os.environ[\"DEFAULT_S3_BUCKET\"] = bucket"
   ],
   "metadata": {
    "collapsed": false,
    "ExecuteTime": {
     "end_time": "2024-03-16T23:06:34.487868Z",
     "start_time": "2024-03-16T23:06:34.485698Z"
    }
   },
   "id": "421aa2f1b554ad46",
   "execution_count": 145
  },
  {
   "cell_type": "code",
   "outputs": [],
   "source": [
    "#!aws s3 sync ./data/chest_xray/train s3://${DEFAULT_S3_BUCKET}/train/\n",
    "#!aws s3 sync ./data/chest_xray/test s3://${DEFAULT_S3_BUCKET}/test/\n"
   ],
   "metadata": {
    "collapsed": false,
    "ExecuteTime": {
     "end_time": "2024-03-16T23:06:34.642993Z",
     "start_time": "2024-03-16T23:06:34.640892Z"
    }
   },
   "id": "724a476554a8b72",
   "execution_count": 146
  },
  {
   "cell_type": "code",
   "outputs": [],
   "source": [
    "import boto3\n",
    "\n",
    "boto3.Session().resource('s3').Bucket(bucket).Object('train.lst').upload_file('./train.lst')\n",
    "boto3.Session().resource('s3').Bucket(bucket).Object('test.lst').upload_file('./test.lst')"
   ],
   "metadata": {
    "collapsed": false,
    "ExecuteTime": {
     "end_time": "2024-03-16T23:06:35.600954Z",
     "start_time": "2024-03-16T23:06:34.796505Z"
    }
   },
   "id": "c96f63e33d85b1ec",
   "execution_count": 147
  },
  {
   "cell_type": "code",
   "outputs": [
    {
     "name": "stdout",
     "output_type": "stream",
     "text": [
      "813361260812.dkr.ecr.eu-central-1.amazonaws.com/image-classification:1\n"
     ]
    }
   ],
   "source": [
    "import sagemaker\n",
    "from sagemaker import image_uris\n",
    "from sagemaker import get_execution_role\n",
    "session = sagemaker.Session()\n",
    "\n",
    "algorithm_image = image_uris.retrieve(\n",
    "    region=boto3.Session().region_name,\n",
    "    framework=\"image-classification\"\n",
    ")\n",
    "\n",
    "s3_output_location = f\"s3://{bucket}/models/image_model\"\n",
    "print(algorithm_image)"
   ],
   "metadata": {
    "collapsed": false,
    "ExecuteTime": {
     "end_time": "2024-03-16T23:06:35.957564Z",
     "start_time": "2024-03-16T23:06:35.602370Z"
    }
   },
   "id": "a6b863c9d9e39108",
   "execution_count": 148
  },
  {
   "cell_type": "code",
   "outputs": [
    {
     "name": "stdout",
     "output_type": "stream",
     "text": [
      "arn:aws:iam::590184007327:role/machinelearning\n"
     ]
    }
   ],
   "source": [
    "role = get_execution_role()\n",
    "print(role)"
   ],
   "metadata": {
    "collapsed": false,
    "ExecuteTime": {
     "end_time": "2024-03-16T23:06:36.951643Z",
     "start_time": "2024-03-16T23:06:35.958228Z"
    }
   },
   "id": "4add950e9bd89971",
   "execution_count": 149
  },
  {
   "cell_type": "code",
   "outputs": [],
   "source": [
    "image_classifier_model = sagemaker.estimator.Estimator(\n",
    "    algorithm_image,\n",
    "    role=role,\n",
    "    instance_count=1,\n",
    "    instance_type=\"ml.p2.xlarge\",\n",
    "    volume_size=50,\n",
    "    max_run=432000,\n",
    "    input_mode=\"File\",\n",
    "    output_path=s3_output_location,\n",
    "    sagemaker_session=session\n",
    ")"
   ],
   "metadata": {
    "collapsed": false,
    "ExecuteTime": {
     "end_time": "2024-03-16T23:06:36.960261Z",
     "start_time": "2024-03-16T23:06:36.953618Z"
    }
   },
   "id": "46dea2666a647929",
   "execution_count": 150
  },
  {
   "cell_type": "code",
   "outputs": [
    {
     "name": "stdout",
     "output_type": "stream",
     "text": [
      "<sagemaker.estimator.Estimator object at 0x1399037f0>\n"
     ]
    }
   ],
   "source": [
    "print(image_classifier_model)"
   ],
   "metadata": {
    "collapsed": false,
    "ExecuteTime": {
     "end_time": "2024-03-16T23:06:36.962839Z",
     "start_time": "2024-03-16T23:06:36.960903Z"
    }
   },
   "id": "be10c0166b86cd1c",
   "execution_count": 151
  },
  {
   "cell_type": "code",
   "outputs": [
    {
     "name": "stdout",
     "output_type": "stream",
     "text": [
      "0\n"
     ]
    }
   ],
   "source": [
    "counter = 0\n",
    "for filepath in glob.glob(\"./data/chest_xray/train/*.jpeg\"):\n",
    "    counter+=1\n",
    "print(counter)"
   ],
   "metadata": {
    "collapsed": false,
    "ExecuteTime": {
     "end_time": "2024-03-16T23:06:36.965963Z",
     "start_time": "2024-03-16T23:06:36.963643Z"
    }
   },
   "id": "7155fbffaf8fd83",
   "execution_count": 152
  },
  {
   "cell_type": "code",
   "outputs": [],
   "source": [
    "image_classifier_model.set_hyperparameters(\n",
    "    image_shape=\"3,244,244\",\n",
    "    num_classes=2,\n",
    "    use_pretrained_model=1,\n",
    "    num_training_samples=counter,\n",
    "    augmentation_type = \"crop_color_transformation\",\n",
    "    epochs=15,\n",
    "    early_stopping = True,\n",
    "    early_stopping_min_epochs = 8,\n",
    "    early_stopping_patience = 5,\n",
    "    early_stopping_tolerance = 0.0,\n",
    "    lr_scheduler_factor = 0.1,\n",
    "    lr_scheduler_step = \"8,10,12\"\n",
    ")\n"
   ],
   "metadata": {
    "collapsed": false,
    "ExecuteTime": {
     "end_time": "2024-03-16T23:12:39.336164Z",
     "start_time": "2024-03-16T23:12:39.331764Z"
    }
   },
   "id": "2f2fcaae28259e9",
   "execution_count": 184
  },
  {
   "cell_type": "code",
   "outputs": [],
   "source": [
    "from sagemaker.tuner import CategoricalParameter, ContinuousParameter, HyperparameterTuner\n",
    "\n",
    "hyperparameter_ranges = {\n",
    "    \"learning_rate\":ContinuousParameter(0.01,0.1),\n",
    "    \"mini_batch_size\":CategoricalParameter([8,16,32]),\n",
    "    \"optimizer\":CategoricalParameter([\"sgn\",\"adam\"])\n",
    "}"
   ],
   "metadata": {
    "collapsed": false,
    "ExecuteTime": {
     "end_time": "2024-03-16T23:12:39.794292Z",
     "start_time": "2024-03-16T23:12:39.790525Z"
    }
   },
   "id": "5d7c00a610b35fba",
   "execution_count": 185
  },
  {
   "cell_type": "code",
   "outputs": [],
   "source": [
    "objective_metric_name = \"validation:accuracy\"\n",
    "objective_type = \"Maximize\"\n",
    "max_jobs = 5\n",
    "max_parallel_jobs = 1"
   ],
   "metadata": {
    "collapsed": false,
    "ExecuteTime": {
     "end_time": "2024-03-16T23:12:40.130842Z",
     "start_time": "2024-03-16T23:12:40.128969Z"
    }
   },
   "id": "dfcadd8dfdedadb1",
   "execution_count": 186
  },
  {
   "cell_type": "code",
   "outputs": [],
   "source": [
    "tuner = HyperparameterTuner(estimator=image_classifier_model,objective_metric_name=objective_metric_name,hyperparameter_ranges=hyperparameter_ranges,objective_type=objective_type,max_jobs=max_jobs,max_parallel_jobs=max_parallel_jobs)"
   ],
   "metadata": {
    "collapsed": false,
    "ExecuteTime": {
     "end_time": "2024-03-16T23:12:40.777817Z",
     "start_time": "2024-03-16T23:12:40.775072Z"
    }
   },
   "id": "821ee6015109f415",
   "execution_count": 187
  },
  {
   "cell_type": "code",
   "outputs": [],
   "source": [
    "from sagemaker.session import TrainingInput\n",
    "\n",
    "model_inputs = {\n",
    "    \"train\":sagemaker.inputs.TrainingInput(s3_data=f\"s3://{bucket}/train/\",content_type=\"application/x-image\"),\n",
    "    \"validation\":sagemaker.inputs.TrainingInput(s3_data=f\"s3://{bucket}/test/\",content_type=\"application/x-image\"),\n",
    "    \"train_lst\":sagemaker.inputs.TrainingInput(s3_data=f\"s3://{bucket}/train.lst\",content_type=\"application/x-image\"),\n",
    "    \"validation_lst\":sagemaker.inputs.TrainingInput(s3_data=f\"s3://{bucket}/test.lst\",content_type=\"application/x-image\"),\n",
    "\n",
    "}"
   ],
   "metadata": {
    "collapsed": false,
    "ExecuteTime": {
     "end_time": "2024-03-16T23:12:41.179605Z",
     "start_time": "2024-03-16T23:12:41.177185Z"
    }
   },
   "id": "a3740ab995a2e798",
   "execution_count": 188
  },
  {
   "cell_type": "code",
   "outputs": [],
   "source": [
    "import time\n",
    "job_name_prefix = \"classifier\"\n",
    "timestamp = time.strftime(\"-%y-%m-%d-%H-%M-%S\",time.gmtime())\n",
    "job_name = f\"{job_name_prefix}-{timestamp}\""
   ],
   "metadata": {
    "collapsed": false,
    "ExecuteTime": {
     "end_time": "2024-03-16T23:12:51.663197Z",
     "start_time": "2024-03-16T23:12:51.659880Z"
    }
   },
   "id": "ff7522c3b22f3819",
   "execution_count": 191
  },
  {
   "cell_type": "code",
   "outputs": [
    {
     "name": "stderr",
     "output_type": "stream",
     "text": [
      "No finished training job found associated with this estimator. Please make sure this estimator is only used for building workflow config\n"
     ]
    },
    {
     "ename": "ResourceLimitExceeded",
     "evalue": "An error occurred (ResourceLimitExceeded) when calling the CreateHyperParameterTuningJob operation: The account-level service limit 'ml.p2.xlarge for training job usage' is 0 Instances, with current utilization of 0 Instances and a request delta of 1 Instances. Please use AWS Service Quotas to request an increase for this quota. If AWS Service Quotas is not available, contact AWS support to request an increase for this quota.",
     "output_type": "error",
     "traceback": [
      "\u001B[0;31m---------------------------------------------------------------------------\u001B[0m",
      "\u001B[0;31mResourceLimitExceeded\u001B[0m                     Traceback (most recent call last)",
      "Cell \u001B[0;32mIn[193], line 1\u001B[0m\n\u001B[0;32m----> 1\u001B[0m \u001B[43mtuner\u001B[49m\u001B[38;5;241;43m.\u001B[39;49m\u001B[43mfit\u001B[49m\u001B[43m(\u001B[49m\u001B[43minputs\u001B[49m\u001B[38;5;241;43m=\u001B[39;49m\u001B[43mmodel_inputs\u001B[49m\u001B[43m,\u001B[49m\u001B[43mjob_name\u001B[49m\u001B[38;5;241;43m=\u001B[39;49m\u001B[43mjob_name\u001B[49m\u001B[43m,\u001B[49m\u001B[43mlogs\u001B[49m\u001B[38;5;241;43m=\u001B[39;49m\u001B[38;5;28;43;01mTrue\u001B[39;49;00m\u001B[43m)\u001B[49m\n",
      "File \u001B[0;32m~/anaconda3/envs/pneumonia-detection-ml-with-react/lib/python3.10/site-packages/sagemaker/workflow/pipeline_context.py:346\u001B[0m, in \u001B[0;36mrunnable_by_pipeline.<locals>.wrapper\u001B[0;34m(*args, **kwargs)\u001B[0m\n\u001B[1;32m    342\u001B[0m         \u001B[38;5;28;01mreturn\u001B[39;00m context\n\u001B[1;32m    344\u001B[0m     \u001B[38;5;28;01mreturn\u001B[39;00m _StepArguments(retrieve_caller_name(self_instance), run_func, \u001B[38;5;241m*\u001B[39margs, \u001B[38;5;241m*\u001B[39m\u001B[38;5;241m*\u001B[39mkwargs)\n\u001B[0;32m--> 346\u001B[0m \u001B[38;5;28;01mreturn\u001B[39;00m \u001B[43mrun_func\u001B[49m\u001B[43m(\u001B[49m\u001B[38;5;241;43m*\u001B[39;49m\u001B[43margs\u001B[49m\u001B[43m,\u001B[49m\u001B[43m \u001B[49m\u001B[38;5;241;43m*\u001B[39;49m\u001B[38;5;241;43m*\u001B[39;49m\u001B[43mkwargs\u001B[49m\u001B[43m)\u001B[49m\n",
      "File \u001B[0;32m~/anaconda3/envs/pneumonia-detection-ml-with-react/lib/python3.10/site-packages/sagemaker/tuner.py:1035\u001B[0m, in \u001B[0;36mHyperparameterTuner.fit\u001B[0;34m(self, inputs, job_name, include_cls_metadata, estimator_kwargs, wait, **kwargs)\u001B[0m\n\u001B[1;32m    976\u001B[0m \u001B[38;5;250m\u001B[39m\u001B[38;5;124;03m\"\"\"Start a hyperparameter tuning job.\u001B[39;00m\n\u001B[1;32m    977\u001B[0m \n\u001B[1;32m    978\u001B[0m \u001B[38;5;124;03mArgs:\u001B[39;00m\n\u001B[0;32m   (...)\u001B[0m\n\u001B[1;32m   1032\u001B[0m \u001B[38;5;124;03m        arguments are needed.\u001B[39;00m\n\u001B[1;32m   1033\u001B[0m \u001B[38;5;124;03m\"\"\"\u001B[39;00m\n\u001B[1;32m   1034\u001B[0m \u001B[38;5;28;01mif\u001B[39;00m \u001B[38;5;28mself\u001B[39m\u001B[38;5;241m.\u001B[39mestimator \u001B[38;5;129;01mis\u001B[39;00m \u001B[38;5;129;01mnot\u001B[39;00m \u001B[38;5;28;01mNone\u001B[39;00m:\n\u001B[0;32m-> 1035\u001B[0m     \u001B[38;5;28;43mself\u001B[39;49m\u001B[38;5;241;43m.\u001B[39;49m\u001B[43m_fit_with_estimator\u001B[49m\u001B[43m(\u001B[49m\u001B[43minputs\u001B[49m\u001B[43m,\u001B[49m\u001B[43m \u001B[49m\u001B[43mjob_name\u001B[49m\u001B[43m,\u001B[49m\u001B[43m \u001B[49m\u001B[43minclude_cls_metadata\u001B[49m\u001B[43m,\u001B[49m\u001B[43m \u001B[49m\u001B[38;5;241;43m*\u001B[39;49m\u001B[38;5;241;43m*\u001B[39;49m\u001B[43mkwargs\u001B[49m\u001B[43m)\u001B[49m\n\u001B[1;32m   1036\u001B[0m \u001B[38;5;28;01melse\u001B[39;00m:\n\u001B[1;32m   1037\u001B[0m     \u001B[38;5;28mself\u001B[39m\u001B[38;5;241m.\u001B[39m_fit_with_estimator_dict(inputs, job_name, include_cls_metadata, estimator_kwargs)\n",
      "File \u001B[0;32m~/anaconda3/envs/pneumonia-detection-ml-with-react/lib/python3.10/site-packages/sagemaker/tuner.py:1046\u001B[0m, in \u001B[0;36mHyperparameterTuner._fit_with_estimator\u001B[0;34m(self, inputs, job_name, include_cls_metadata, **kwargs)\u001B[0m\n\u001B[1;32m   1044\u001B[0m \u001B[38;5;28mself\u001B[39m\u001B[38;5;241m.\u001B[39m_prepare_estimator_for_tuning(\u001B[38;5;28mself\u001B[39m\u001B[38;5;241m.\u001B[39mestimator, inputs, job_name, \u001B[38;5;241m*\u001B[39m\u001B[38;5;241m*\u001B[39mkwargs)\n\u001B[1;32m   1045\u001B[0m \u001B[38;5;28mself\u001B[39m\u001B[38;5;241m.\u001B[39m_prepare_for_tuning(job_name\u001B[38;5;241m=\u001B[39mjob_name, include_cls_metadata\u001B[38;5;241m=\u001B[39minclude_cls_metadata)\n\u001B[0;32m-> 1046\u001B[0m \u001B[38;5;28mself\u001B[39m\u001B[38;5;241m.\u001B[39mlatest_tuning_job \u001B[38;5;241m=\u001B[39m \u001B[43m_TuningJob\u001B[49m\u001B[38;5;241;43m.\u001B[39;49m\u001B[43mstart_new\u001B[49m\u001B[43m(\u001B[49m\u001B[38;5;28;43mself\u001B[39;49m\u001B[43m,\u001B[49m\u001B[43m \u001B[49m\u001B[43minputs\u001B[49m\u001B[43m)\u001B[49m\n",
      "File \u001B[0;32m~/anaconda3/envs/pneumonia-detection-ml-with-react/lib/python3.10/site-packages/sagemaker/tuner.py:2145\u001B[0m, in \u001B[0;36m_TuningJob.start_new\u001B[0;34m(cls, tuner, inputs)\u001B[0m\n\u001B[1;32m   2128\u001B[0m \u001B[38;5;250m\u001B[39m\u001B[38;5;124;03m\"\"\"Create a new Amazon SageMaker HyperParameter Tuning job.\u001B[39;00m\n\u001B[1;32m   2129\u001B[0m \n\u001B[1;32m   2130\u001B[0m \u001B[38;5;124;03mThe new HyperParameter Tuning job uses the provided `tuner` and `inputs`\u001B[39;00m\n\u001B[0;32m   (...)\u001B[0m\n\u001B[1;32m   2141\u001B[0m \u001B[38;5;124;03m    information about the started job.\u001B[39;00m\n\u001B[1;32m   2142\u001B[0m \u001B[38;5;124;03m\"\"\"\u001B[39;00m\n\u001B[1;32m   2143\u001B[0m tuner_args \u001B[38;5;241m=\u001B[39m \u001B[38;5;28mcls\u001B[39m\u001B[38;5;241m.\u001B[39m_get_tuner_args(tuner, inputs)\n\u001B[0;32m-> 2145\u001B[0m \u001B[43mtuner\u001B[49m\u001B[38;5;241;43m.\u001B[39;49m\u001B[43msagemaker_session\u001B[49m\u001B[38;5;241;43m.\u001B[39;49m\u001B[43mcreate_tuning_job\u001B[49m\u001B[43m(\u001B[49m\u001B[38;5;241;43m*\u001B[39;49m\u001B[38;5;241;43m*\u001B[39;49m\u001B[43mtuner_args\u001B[49m\u001B[43m)\u001B[49m\n\u001B[1;32m   2147\u001B[0m \u001B[38;5;28;01mreturn\u001B[39;00m \u001B[38;5;28mcls\u001B[39m(tuner\u001B[38;5;241m.\u001B[39msagemaker_session, tuner\u001B[38;5;241m.\u001B[39m_current_job_name)\n",
      "File \u001B[0;32m~/anaconda3/envs/pneumonia-detection-ml-with-react/lib/python3.10/site-packages/sagemaker/session.py:3168\u001B[0m, in \u001B[0;36mSession.create_tuning_job\u001B[0;34m(self, job_name, tuning_config, training_config, training_config_list, warm_start_config, tags, autotune)\u001B[0m\n\u001B[1;32m   3165\u001B[0m     logger\u001B[38;5;241m.\u001B[39mdebug(\u001B[38;5;124m\"\u001B[39m\u001B[38;5;124mtune request: \u001B[39m\u001B[38;5;132;01m%s\u001B[39;00m\u001B[38;5;124m\"\u001B[39m, json\u001B[38;5;241m.\u001B[39mdumps(request, indent\u001B[38;5;241m=\u001B[39m\u001B[38;5;241m4\u001B[39m))\n\u001B[1;32m   3166\u001B[0m     \u001B[38;5;28mself\u001B[39m\u001B[38;5;241m.\u001B[39msagemaker_client\u001B[38;5;241m.\u001B[39mcreate_hyper_parameter_tuning_job(\u001B[38;5;241m*\u001B[39m\u001B[38;5;241m*\u001B[39mrequest)\n\u001B[0;32m-> 3168\u001B[0m \u001B[38;5;28;43mself\u001B[39;49m\u001B[38;5;241;43m.\u001B[39;49m\u001B[43m_intercept_create_request\u001B[49m\u001B[43m(\u001B[49m\u001B[43mtune_request\u001B[49m\u001B[43m,\u001B[49m\u001B[43m \u001B[49m\u001B[43msubmit\u001B[49m\u001B[43m,\u001B[49m\u001B[43m \u001B[49m\u001B[38;5;28;43mself\u001B[39;49m\u001B[38;5;241;43m.\u001B[39;49m\u001B[43mcreate_tuning_job\u001B[49m\u001B[38;5;241;43m.\u001B[39;49m\u001B[38;5;18;43m__name__\u001B[39;49m\u001B[43m)\u001B[49m\n",
      "File \u001B[0;32m~/anaconda3/envs/pneumonia-detection-ml-with-react/lib/python3.10/site-packages/sagemaker/session.py:6427\u001B[0m, in \u001B[0;36mSession._intercept_create_request\u001B[0;34m(self, request, create, func_name)\u001B[0m\n\u001B[1;32m   6410\u001B[0m \u001B[38;5;28;01mdef\u001B[39;00m \u001B[38;5;21m_intercept_create_request\u001B[39m(\n\u001B[1;32m   6411\u001B[0m     \u001B[38;5;28mself\u001B[39m,\n\u001B[1;32m   6412\u001B[0m     request: typing\u001B[38;5;241m.\u001B[39mDict,\n\u001B[0;32m   (...)\u001B[0m\n\u001B[1;32m   6415\u001B[0m     \u001B[38;5;66;03m# pylint: disable=unused-argument\u001B[39;00m\n\u001B[1;32m   6416\u001B[0m ):\n\u001B[1;32m   6417\u001B[0m \u001B[38;5;250m    \u001B[39m\u001B[38;5;124;03m\"\"\"This function intercepts the create job request.\u001B[39;00m\n\u001B[1;32m   6418\u001B[0m \n\u001B[1;32m   6419\u001B[0m \u001B[38;5;124;03m    PipelineSession inherits this Session class and will override\u001B[39;00m\n\u001B[0;32m   (...)\u001B[0m\n\u001B[1;32m   6425\u001B[0m \u001B[38;5;124;03m        func_name (str): the name of the function needed intercepting\u001B[39;00m\n\u001B[1;32m   6426\u001B[0m \u001B[38;5;124;03m    \"\"\"\u001B[39;00m\n\u001B[0;32m-> 6427\u001B[0m     \u001B[38;5;28;01mreturn\u001B[39;00m \u001B[43mcreate\u001B[49m\u001B[43m(\u001B[49m\u001B[43mrequest\u001B[49m\u001B[43m)\u001B[49m\n",
      "File \u001B[0;32m~/anaconda3/envs/pneumonia-detection-ml-with-react/lib/python3.10/site-packages/sagemaker/session.py:3166\u001B[0m, in \u001B[0;36mSession.create_tuning_job.<locals>.submit\u001B[0;34m(request)\u001B[0m\n\u001B[1;32m   3164\u001B[0m logger\u001B[38;5;241m.\u001B[39minfo(\u001B[38;5;124m\"\u001B[39m\u001B[38;5;124mCreating hyperparameter tuning job with name: \u001B[39m\u001B[38;5;132;01m%s\u001B[39;00m\u001B[38;5;124m\"\u001B[39m, job_name)\n\u001B[1;32m   3165\u001B[0m logger\u001B[38;5;241m.\u001B[39mdebug(\u001B[38;5;124m\"\u001B[39m\u001B[38;5;124mtune request: \u001B[39m\u001B[38;5;132;01m%s\u001B[39;00m\u001B[38;5;124m\"\u001B[39m, json\u001B[38;5;241m.\u001B[39mdumps(request, indent\u001B[38;5;241m=\u001B[39m\u001B[38;5;241m4\u001B[39m))\n\u001B[0;32m-> 3166\u001B[0m \u001B[38;5;28;43mself\u001B[39;49m\u001B[38;5;241;43m.\u001B[39;49m\u001B[43msagemaker_client\u001B[49m\u001B[38;5;241;43m.\u001B[39;49m\u001B[43mcreate_hyper_parameter_tuning_job\u001B[49m\u001B[43m(\u001B[49m\u001B[38;5;241;43m*\u001B[39;49m\u001B[38;5;241;43m*\u001B[39;49m\u001B[43mrequest\u001B[49m\u001B[43m)\u001B[49m\n",
      "File \u001B[0;32m~/anaconda3/envs/pneumonia-detection-ml-with-react/lib/python3.10/site-packages/botocore/client.py:535\u001B[0m, in \u001B[0;36m_api_call\u001B[0;34m(self, *args, **kwargs)\u001B[0m\n\u001B[1;32m    532\u001B[0m \u001B[38;5;28;01mdef\u001B[39;00m \u001B[38;5;21m_create_name_mapping\u001B[39m(\u001B[38;5;28mself\u001B[39m, service_model):\n\u001B[1;32m    533\u001B[0m     \u001B[38;5;66;03m# py_name -> OperationName, for every operation available\u001B[39;00m\n\u001B[1;32m    534\u001B[0m     \u001B[38;5;66;03m# for a service.\u001B[39;00m\n\u001B[0;32m--> 535\u001B[0m     mapping \u001B[38;5;241m=\u001B[39m {}\n\u001B[1;32m    536\u001B[0m     \u001B[38;5;28;01mfor\u001B[39;00m operation_name \u001B[38;5;129;01min\u001B[39;00m service_model\u001B[38;5;241m.\u001B[39moperation_names:\n\u001B[1;32m    537\u001B[0m         py_operation_name \u001B[38;5;241m=\u001B[39m xform_name(operation_name)\n",
      "File \u001B[0;32m~/anaconda3/envs/pneumonia-detection-ml-with-react/lib/python3.10/site-packages/botocore/client.py:983\u001B[0m, in \u001B[0;36m_make_api_call\u001B[0;34m(self, operation_name, api_params)\u001B[0m\n\u001B[1;32m    972\u001B[0m handler, event_response \u001B[38;5;241m=\u001B[39m \u001B[38;5;28mself\u001B[39m\u001B[38;5;241m.\u001B[39mmeta\u001B[38;5;241m.\u001B[39mevents\u001B[38;5;241m.\u001B[39memit_until_response(\n\u001B[1;32m    973\u001B[0m     \u001B[38;5;124m'\u001B[39m\u001B[38;5;124mbefore-call.\u001B[39m\u001B[38;5;132;01m{service_id}\u001B[39;00m\u001B[38;5;124m.\u001B[39m\u001B[38;5;132;01m{operation_name}\u001B[39;00m\u001B[38;5;124m'\u001B[39m\u001B[38;5;241m.\u001B[39mformat(\n\u001B[1;32m    974\u001B[0m         service_id\u001B[38;5;241m=\u001B[39mservice_id, operation_name\u001B[38;5;241m=\u001B[39moperation_name\n\u001B[0;32m   (...)\u001B[0m\n\u001B[1;32m    979\u001B[0m     context\u001B[38;5;241m=\u001B[39mrequest_context,\n\u001B[1;32m    980\u001B[0m )\n\u001B[1;32m    982\u001B[0m \u001B[38;5;28;01mif\u001B[39;00m event_response \u001B[38;5;129;01mis\u001B[39;00m \u001B[38;5;129;01mnot\u001B[39;00m \u001B[38;5;28;01mNone\u001B[39;00m:\n\u001B[0;32m--> 983\u001B[0m     http, parsed_response \u001B[38;5;241m=\u001B[39m event_response\n\u001B[1;32m    984\u001B[0m \u001B[38;5;28;01melse\u001B[39;00m:\n\u001B[1;32m    985\u001B[0m     maybe_compress_request(\n\u001B[1;32m    986\u001B[0m         \u001B[38;5;28mself\u001B[39m\u001B[38;5;241m.\u001B[39mmeta\u001B[38;5;241m.\u001B[39mconfig, request_dict, operation_model\n\u001B[1;32m    987\u001B[0m     )\n",
      "\u001B[0;31mResourceLimitExceeded\u001B[0m: An error occurred (ResourceLimitExceeded) when calling the CreateHyperParameterTuningJob operation: The account-level service limit 'ml.p2.xlarge for training job usage' is 0 Instances, with current utilization of 0 Instances and a request delta of 1 Instances. Please use AWS Service Quotas to request an increase for this quota. If AWS Service Quotas is not available, contact AWS support to request an increase for this quota."
     ]
    }
   ],
   "source": [
    "tuner.fit(inputs=model_inputs,job_name=job_name,logs=True)"
   ],
   "metadata": {
    "collapsed": false,
    "ExecuteTime": {
     "end_time": "2024-03-16T23:15:06.879713Z",
     "start_time": "2024-03-16T23:15:04.877719Z"
    }
   },
   "id": "20f5e96bed8da9d9",
   "execution_count": 193
  },
  {
   "cell_type": "code",
   "outputs": [],
   "source": [],
   "metadata": {
    "collapsed": false,
    "ExecuteTime": {
     "end_time": "2024-03-16T23:11:06.149608Z",
     "start_time": "2024-03-16T23:11:06.149533Z"
    }
   },
   "id": "13fa2672f5809811"
  },
  {
   "cell_type": "code",
   "outputs": [],
   "source": [],
   "metadata": {
    "collapsed": false
   },
   "id": "9ac9f4207bb11e60"
  }
 ],
 "metadata": {
  "kernelspec": {
   "display_name": "Python 3",
   "language": "python",
   "name": "python3"
  },
  "language_info": {
   "codemirror_mode": {
    "name": "ipython",
    "version": 2
   },
   "file_extension": ".py",
   "mimetype": "text/x-python",
   "name": "python",
   "nbconvert_exporter": "python",
   "pygments_lexer": "ipython2",
   "version": "2.7.6"
  }
 },
 "nbformat": 4,
 "nbformat_minor": 5
}
